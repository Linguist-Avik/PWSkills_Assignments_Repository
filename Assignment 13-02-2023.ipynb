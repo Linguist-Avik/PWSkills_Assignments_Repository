{
 "cells": [
  {
   "cell_type": "markdown",
   "id": "3ff4a1da-ed1e-417b-926d-a5735c44cdfb",
   "metadata": {},
   "source": [
    "Q1. Explain why we have to use the Exception class while creating a Custom Exception.\n",
    "Note: Here Exception class refers to the base class for all the exceptions.\n",
    "\n",
    "Ans: Using the Exception class as the base class for custom exceptions allows the custom exception to inherit existing functionality like error message handling and stack trace information. It ensures that linguistic conventions are followed and made easier to implement standardized exception handling by deriving from the Exception class. It promotes interoperability with other components and simplifies integration with existing exception-handling mechanisms. Utilizing the Exception class also improves documentation and code readability by highlighting the function of the custom exception. Utilizing the Exception class simplifies the creation of custom exceptions, promotes best practises, and makes it easier to create dependable software systems."
   ]
  },
  {
   "cell_type": "markdown",
   "id": "34183b4f-6b03-44bf-8d0c-fb449e20c0f7",
   "metadata": {},
   "source": [
    "Q2. Write a python program to print Python Exception Hierarchy."
   ]
  },
  {
   "cell_type": "code",
   "execution_count": null,
   "id": "6b3fb840-1d7a-4ad0-950f-fbe880769048",
   "metadata": {},
   "outputs": [],
   "source": [
    "#Ans of Q2\n",
    "\n",
    "def print_exception_hierarchy(exception_cls, indent=0):\n",
    "    print(' ' * indent + exception_cls.__name__)\n",
    "    for subclass in exception_cls.__subclasses__():\n",
    "        print_exception_hierarchy(subclass, indent + 4)\n",
    "\n",
    "print_exception_hierarchy(BaseException)"
   ]
  },
  {
   "cell_type": "markdown",
   "id": "08976634-c6a9-4f0b-ada3-345e6736802e",
   "metadata": {},
   "source": [
    "Q3. What errors are defined in the ArithmeticError class? Explain any two with an example.\n",
    "\n",
    "Ans: The 'ArithmeticError' class in Python defines errors that occur during arithmetic operations. \n",
    "\n",
    "Two common errors in this class are 'OverflowError' and 'ZeroDivisionError'. \n",
    "\n",
    "a) OverflowError: It occurs when a calculation exceeds the maximum representable value for a numeric type, resulting in an overflow condition. It is raised to indicate that the result of an arithmetic operation is too large to be stored or processed.\n",
    "\n",
    "b) ZeroDivisionError: This error is raised when a division or modulo operation is performed with zero as the divisor. It occurs when you attempt to divide a number by zero."
   ]
  },
  {
   "cell_type": "code",
   "execution_count": 12,
   "id": "2f5f8e9e-d0b9-4771-bbc7-fe93e6ad7ffa",
   "metadata": {},
   "outputs": [
    {
     "name": "stdout",
     "output_type": "stream",
     "text": [
      "OverflowError: int too large to convert to float\n",
      "ZeroDivisionError: division by zero\n"
     ]
    }
   ],
   "source": [
    "#Ans of Q3\n",
    "\n",
    "#OverflowError\n",
    "import math\n",
    "\n",
    "try:\n",
    "    result = math.exp(1000**1000)\n",
    "except OverflowError as oe:\n",
    "    print(f\"OverflowError: {oe}\")\n",
    "\n",
    "\n",
    "#ZeroDivisionError\n",
    "try:\n",
    "    result = 10 / 0\n",
    "except ZeroDivisionError as ze:\n",
    "    print(f\"ZeroDivisionError: {ze}\")"
   ]
  },
  {
   "cell_type": "markdown",
   "id": "ca8f8da3-1371-4906-8cdf-e1920aaef435",
   "metadata": {},
   "source": [
    "Q4. Why LookupError class is used? Explain with an example KeyError and IndexError.\n",
    "\n",
    "Ans: The 'LookupError' class is used to handle lookup-related errors when accessing elements in a collection. For example, 'KeyError' is raised when accessing a nonexistent key in a dictionary, and 'IndexError' is raised when accessing an index out of range in a sequence like a list. Catching specific error types allows for more precise error handling."
   ]
  },
  {
   "cell_type": "code",
   "execution_count": 1,
   "id": "2292c2fd-ac11-4944-b691-74b3094c73d2",
   "metadata": {},
   "outputs": [
    {
     "name": "stdout",
     "output_type": "stream",
     "text": [
      "The key 'grape' does not exist in the dictionary.\n",
      "Index 3 is out of range for the list.\n"
     ]
    }
   ],
   "source": [
    "#Ans of Q4\n",
    "\n",
    "\n",
    "#KeyError\n",
    "my_dict = {'apple': 1, 'banana': 2, 'orange': 3}\n",
    "\n",
    "try:\n",
    "    print(my_dict['grape'])\n",
    "except KeyError:\n",
    "    print(\"The key 'grape' does not exist in the dictionary.\")\n",
    "    \n",
    "   \n",
    "#IndexError\n",
    "my_list = [1, 2, 3]\n",
    "\n",
    "try:\n",
    "    print(my_list[3])\n",
    "except IndexError:\n",
    "    print(\"Index 3 is out of range for the list.\")"
   ]
  },
  {
   "cell_type": "markdown",
   "id": "f663d930-5192-4fbf-9008-dea07673a9d5",
   "metadata": {},
   "source": [
    "Q5. Explain ImportError. What is ModuleNotFoundError?\n",
    "\n",
    "\n",
    "Ans: 'ImportError' is raised when an imported module or package cannot be found or loaded in Python. It occurs when the interpreter encounters an import statement but fails to locate the specified module. \n",
    "\n",
    "In Python 3.6 and later versions, the more specific 'ModuleNotFoundError' subclass of 'ImportError' was introduced. 'ModuleNotFoundError' is raised when a module or package specifically cannot be found. It provides clearer and more informative error messages, indicating that the issue is related to the absence of the module or package being imported. Both 'ImportError' and 'ModuleNotFoundError' help identify and handle situations where the required modules or packages are missing or inaccessible during the import process."
   ]
  },
  {
   "cell_type": "markdown",
   "id": "fbd9ebd5-a5a7-4a6b-b0fe-c65137bcfa77",
   "metadata": {},
   "source": [
    "Q6. List down some best practices for exception handling in python.\n",
    "\n",
    "Ans: Follwing are some best practices for exception handling in Python:\n",
    "\n",
    "a) Use specific exceptions: Handle only the expected exceptions.\n",
    "b) Valid print statements: Always print valid/informative statements to make the code easy to understand.\n",
    "c) Use a finally block: Ensure certain code always executes.\n",
    "d) Avoid bare except: Specify exception types to avoid hiding errors.\n",
    "e) Handle exceptions at the right level: Decide where to handle exceptions.\n",
    "f) Log exceptions: Capture useful information for debugging.\n",
    "g) Use custom exceptions: Define and raise specific exceptions.\n",
    "h) Use multiple except blocks: Separate exception handling for different types."
   ]
  }
 ],
 "metadata": {
  "kernelspec": {
   "display_name": "Python 3 (ipykernel)",
   "language": "python",
   "name": "python3"
  },
  "language_info": {
   "codemirror_mode": {
    "name": "ipython",
    "version": 3
   },
   "file_extension": ".py",
   "mimetype": "text/x-python",
   "name": "python",
   "nbconvert_exporter": "python",
   "pygments_lexer": "ipython3",
   "version": "3.10.8"
  }
 },
 "nbformat": 4,
 "nbformat_minor": 5
}
