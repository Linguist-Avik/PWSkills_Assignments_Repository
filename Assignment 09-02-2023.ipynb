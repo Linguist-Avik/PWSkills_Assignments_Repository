{
 "cells": [
  {
   "cell_type": "markdown",
   "id": "eefa8d90-43cb-47ee-b394-2c251fbc1394",
   "metadata": {},
   "source": [
    "Q1. Create a vehicle class with an init method having instance variables as name_of_vehicle, max_speed\n",
    "and average_of_vehicle."
   ]
  },
  {
   "cell_type": "code",
   "execution_count": 2,
   "id": "5db67d5c-4f89-4702-b816-17e566ef6ff0",
   "metadata": {},
   "outputs": [],
   "source": [
    "#From Q1 above\n",
    "class vehicle:\n",
    "    def __init__(self, name_of_vehicle, max_speed, average_of_vehicle):\n",
    "        self.name_of_vehicle = name_of_vehicle\n",
    "        self.max_speed = max_speed\n",
    "        self.average_of_vehicle = average_of_vehicle"
   ]
  },
  {
   "cell_type": "markdown",
   "id": "cefc99f9-08bd-44d5-96a4-3c9718e5acef",
   "metadata": {},
   "source": [
    "Q2. Create a child class car from the vehicle class created in Que 1, which will inherit the vehicle class.\n",
    "Create a method named seating_capacity which takes capacity as an argument and returns the name of\n",
    "the vehicle and its seating capacity."
   ]
  },
  {
   "cell_type": "code",
   "execution_count": 3,
   "id": "67890f49-cd33-4177-8c4c-dfcf46f43622",
   "metadata": {},
   "outputs": [],
   "source": [
    "#From Q2 above\n",
    "class car(vehicle):\n",
    "    def car_details(self, seating_capacity)"
   ]
  },
  {
   "cell_type": "code",
   "execution_count": null,
   "id": "ddb2abf4-9537-4086-8df1-93544a6cc6e2",
   "metadata": {},
   "outputs": [
    {
     "name": "stdout",
     "output_type": "stream",
     "text": [
      "Sedan has a seating capacity of 5 people.\n"
     ]
    }
   ],
   "source": [
    "class Car(vehicle):\n",
    "    def seating_capacity(self, capacity):\n",
    "        self.seating_capacity = capacity\n",
    "        return f\"{self.name_of_vehicle} has a seating capacity of {capacity} people.\"\n",
    "\n",
    "my_car = Car(\"Sedan\", 180, 50)\n",
    "print(my_car.seating_capacity(5))\n"
   ]
  },
  {
   "cell_type": "markdown",
   "id": "84a95540-8b9d-4674-8dd5-75d60dbf9b56",
   "metadata": {},
   "source": [
    "Q3. What is multiple inheritance? Write a python code to demonstrate multiple inheritance.\n",
    "\n",
    "Answer: A feature of OOP known as multiple inheritance allows a subclass to inherit from multiple parent classes. This enables the subclass to have all of the parent classes' attributes and methods, effectively combining their functionality."
   ]
  },
  {
   "cell_type": "code",
   "execution_count": 26,
   "id": "400e8f9a-8325-4649-9a7d-ea8bb9c9a2d7",
   "metadata": {},
   "outputs": [
    {
     "name": "stdout",
     "output_type": "stream",
     "text": [
      "this is parent 2\n"
     ]
    }
   ],
   "source": [
    "#From Q3 above\n",
    "class parent1():\n",
    "    def test_class1(self):\n",
    "        print(\"this is parent 1\")\n",
    "class parent2():\n",
    "    def test_class2(self):\n",
    "        print(\"this is parent 2\")\n",
    "class son(parent1, parent2):\n",
    "        pass\n",
    "\n",
    "test = son()\n",
    "test.test_class2()"
   ]
  },
  {
   "cell_type": "markdown",
   "id": "d26c2ac0-a632-40d0-8a2f-2b9e91253610",
   "metadata": {},
   "source": [
    "Q4. What are getter and setter in python? Create a class and create a getter and a setter method in this\n",
    "class.\n",
    "\n",
    "Answer: Getter and setter methods are used to access and change the values of class attributes in a controlled manner.\n",
    "A private attribute's value is set using a setter method, while a getter method is used to retrieve the value of a private attribute. This enables us to regulate the attribute's access and modification as well as impose limitations on its values."
   ]
  },
  {
   "cell_type": "code",
   "execution_count": 27,
   "id": "1bd68cda-cb2e-436a-8bfa-48e205106ec3",
   "metadata": {},
   "outputs": [
    {
     "name": "stdout",
     "output_type": "stream",
     "text": [
      "Alice\n",
      "Bob\n",
      "25\n",
      "30\n"
     ]
    }
   ],
   "source": [
    "#From Q4 above\n",
    "class Person:\n",
    "    def __init__(self, name, age):\n",
    "        self._name = name\n",
    "        self._age = age\n",
    "    \n",
    "    def get_name(self):\n",
    "        return self._name\n",
    "    \n",
    "    def set_name(self, name):\n",
    "        self._name = name\n",
    "    \n",
    "    def get_age(self):\n",
    "        return self._age\n",
    "    \n",
    "    def set_age(self, age):\n",
    "        if age < 0:\n",
    "            raise ValueError(\"Age cannot be negative.\")\n",
    "        self._age = age\n",
    "\n",
    "person = Person(\"Alice\", 25)\n",
    "print(person.get_name())\n",
    "person.set_name(\"Bob\")\n",
    "print(person.get_name())\n",
    "\n",
    "print(person.get_age())\n",
    "person.set_age(30)\n",
    "print(person.get_age())\n"
   ]
  },
  {
   "cell_type": "markdown",
   "id": "2d41ab75-8874-40d6-a266-574b166d3fb4",
   "metadata": {},
   "source": [
    "Q5.What is method overriding in python? Write a python code to demonstrate method overriding.\n",
    "\n",
    "Answer: In object-oriented programming, a subclass can provide a different implementation of a method that is already defined in its parent class. This process is known as method overriding. The subclass's implementation is used in place of the parent class's implementation when the method is called on an instance of the subclass."
   ]
  },
  {
   "cell_type": "code",
   "execution_count": 30,
   "id": "2b6f1e79-b788-4cfa-8950-2931df6d7d88",
   "metadata": {},
   "outputs": [
    {
     "name": "stdout",
     "output_type": "stream",
     "text": [
      "The dog barks.\n"
     ]
    }
   ],
   "source": [
    "#From Q5 above\n",
    "class Animal:\n",
    "    def speak(self):\n",
    "        print(\"The animal makes a sound.\")\n",
    "\n",
    "class Dog(Animal):\n",
    "    def speak(self):\n",
    "        print(\"The dog barks.\")\n",
    "\n",
    "my_dog = Dog()\n",
    "my_dog.speak()"
   ]
  },
  {
   "cell_type": "code",
   "execution_count": null,
   "id": "c50a0911-2801-4e4e-9fdb-42baa95f067b",
   "metadata": {},
   "outputs": [],
   "source": []
  }
 ],
 "metadata": {
  "kernelspec": {
   "display_name": "Python 3 (ipykernel)",
   "language": "python",
   "name": "python3"
  },
  "language_info": {
   "codemirror_mode": {
    "name": "ipython",
    "version": 3
   },
   "file_extension": ".py",
   "mimetype": "text/x-python",
   "name": "python",
   "nbconvert_exporter": "python",
   "pygments_lexer": "ipython3",
   "version": "3.10.8"
  }
 },
 "nbformat": 4,
 "nbformat_minor": 5
}
