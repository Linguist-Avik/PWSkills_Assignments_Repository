{
 "cells": [
  {
   "cell_type": "markdown",
   "id": "4531f8bb-5ccf-464f-9502-1d195681b813",
   "metadata": {},
   "source": [
    "Q1. Create a function which will take a list as an argument and return the product of all the numbers\n",
    "after creating a flat list.\n",
    "Use the below-given list as an argument for your function.\n",
    "list1 = [1,2,3,4, [44,55,66, True], False, (34,56,78,89,34), {1,2,3,3,2,1}, {1:34, \"key2\": [55, 67, 78, 89], 4: (45,\n",
    "22, 61, 34)}, [56, 'data science'], 'Machine Learning']"
   ]
  },
  {
   "cell_type": "code",
   "execution_count": 5,
   "id": "21bc676e-8530-4fc2-b8c1-d59a5b4ad04c",
   "metadata": {},
   "outputs": [
    {
     "name": "stdout",
     "output_type": "stream",
     "text": [
      "689118639831180913138973540352000\n"
     ]
    }
   ],
   "source": [
    "#From Q1 above\n",
    "def prod_num(lst):\n",
    "    d_lst = []\n",
    "    def give_back(lst):\n",
    "        for item in lst:\n",
    "            if isinstance(item, (int, float)):\n",
    "                d_lst.append(item)\n",
    "            elif isinstance(item, (list, tuple)):\n",
    "                give_back(item)\n",
    "            elif isinstance(item, dict):\n",
    "                for key, value in item.items():\n",
    "                    if isinstance(key, (int, float)):\n",
    "                        d_lst.append(key)\n",
    "                    if isinstance(value, (int, float)):\n",
    "                        d_lst.append(value)\n",
    "                    if isinstance(value, (list, tuple)):\n",
    "                        give_back(value)\n",
    "    give_back(lst)\n",
    "    # print(flat_list)\n",
    "    result = 1\n",
    "    for item in d_lst:\n",
    "        if type(item)==int:\n",
    "            result *= item\n",
    "    return result\n",
    "\n",
    "list1 = [1,2,3,4, [44,55,66, True], False, (34,56,78,89,34), {1,2,3,3,2,1}, {1:34, \"key2\": [55, 67, 78, 89], 4: (45, 22, 61, 34)}, [56, 'data science'], 'Machine Learning']\n",
    "print(prod_num(list1)) "
   ]
  },
  {
   "cell_type": "markdown",
   "id": "a622b049-0602-4e0a-87b7-d59a50177e8d",
   "metadata": {},
   "source": [
    "Q2. Write a python program for encrypting a message sent to you by your friend. The logic of encryption\n",
    "should be such that, for a the output should be z. For b, the output should be y. For c, the output should\n",
    "be x respectively. Also, the whitespace should be replaced with a dollar sign. Keep the punctuation\n",
    "marks unchanged.\n",
    "Input Sentence: I want to become a Data Scientist.\n",
    "Encrypt the above input sentence using the program you just created.\n",
    "Note: Convert the given input sentence into lowercase before encrypting. The final output should be\n",
    "lowercase."
   ]
  },
  {
   "cell_type": "code",
   "execution_count": 14,
   "id": "b0c583db-180f-43dd-9c5e-bae1298399f0",
   "metadata": {},
   "outputs": [
    {
     "name": "stdout",
     "output_type": "stream",
     "text": [
      "Original String I want to become a Data Scientist.\n",
      "Encrypted Message is  r$dzmg$gl$yvxlnv$z$wzgz$hxrvmgrhg.\n"
     ]
    }
   ],
   "source": [
    "#From Q2 above\n",
    "strings = \"I want to become a Data Scientist.\"\n",
    "print(\"Original String\",strings)\n",
    "string1 = strings.lower()\n",
    "import string\n",
    "alphabets = list(string.ascii_lowercase)\n",
    "count = 0\n",
    "length = len(alphabets)\n",
    "enc = []\n",
    "for i in string1:\n",
    "    if i == \" \":\n",
    "        enc.append(\"$\")\n",
    "    elif i.isalpha()== True:\n",
    "        for j in range(0,26):\n",
    "            if i == alphabets[j]:\n",
    "                enc.append(alphabets[length - j -1])\n",
    "            else:\n",
    "                continue\n",
    "    else :\n",
    "        enc.append(i)\n",
    "print(\"Encrypted Message is \", \"\".join(enc))"
   ]
  },
  {
   "cell_type": "code",
   "execution_count": null,
   "id": "4e0297b5-ae0a-4b48-a7e6-f96ef36d25ca",
   "metadata": {},
   "outputs": [],
   "source": []
  }
 ],
 "metadata": {
  "kernelspec": {
   "display_name": "Python 3 (ipykernel)",
   "language": "python",
   "name": "python3"
  },
  "language_info": {
   "codemirror_mode": {
    "name": "ipython",
    "version": 3
   },
   "file_extension": ".py",
   "mimetype": "text/x-python",
   "name": "python",
   "nbconvert_exporter": "python",
   "pygments_lexer": "ipython3",
   "version": "3.10.8"
  }
 },
 "nbformat": 4,
 "nbformat_minor": 5
}
