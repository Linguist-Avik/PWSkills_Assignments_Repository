{
 "cells": [
  {
   "cell_type": "markdown",
   "id": "8fb16d29-cacd-4597-8c4a-8d0c3e4c797b",
   "metadata": {},
   "source": [
    "Q1. Which keyword is used to create a function? Create a function to return a list of odd numbers in the\n",
    "range of 1 to 25.\n",
    "\n",
    "Answer: The def keyword is used to create a function."
   ]
  },
  {
   "cell_type": "code",
   "execution_count": 16,
   "id": "0d90b636-8f54-48ff-9f05-baa76cf80220",
   "metadata": {},
   "outputs": [
    {
     "name": "stdout",
     "output_type": "stream",
     "text": [
      "[1, 3, 5, 7, 9, 11, 13, 15, 17, 19, 21, 23]\n"
     ]
    }
   ],
   "source": [
    "#Create a function to return a list of odd numbers in the range of 1 to 25. From Q1. above.\n",
    "def odd_numbers():\n",
    "    n = []\n",
    "    for i in range(1, 25):\n",
    "        if i % 2 != 0:\n",
    "            n.append(i)\n",
    "    return n\n",
    "\n",
    "odd_numb = odd_numbers()\n",
    "print(odd_numb)"
   ]
  },
  {
   "cell_type": "markdown",
   "id": "5c9c3a68-e980-4b65-84eb-f92913e21c74",
   "metadata": {},
   "source": [
    "Q2. Why *args and **kwargs is used in some functions? Create a function each for *args and **kwargs to\n",
    "demonstrate their use.\n",
    "\n",
    "Answer: *args is used so that n number of items can be saved as tuple and **kwargs is used so that key value pairs can be obtained and saved as a dictionary within the function. "
   ]
  },
  {
   "cell_type": "code",
   "execution_count": 7,
   "id": "dfa324c4-52ef-41bb-8013-89fba5a0d07d",
   "metadata": {},
   "outputs": [
    {
     "data": {
      "text/plain": [
       "((1, 2, 6, 0, 'avik'), {'a': 7, 'b': 8, 'c': 10, 'd': 'sarkar'})"
      ]
     },
     "execution_count": 7,
     "metadata": {},
     "output_type": "execute_result"
    }
   ],
   "source": [
    "# Create a function each for *args and **kwargs to demonstrate their use. From Q2 above.\n",
    "def test_one(*args, **kwargs):\n",
    "    return args, kwargs\n",
    "test_one(1,2,6,0,'avik', a = 7, b = 8, c = 10, d = 'sarkar')"
   ]
  },
  {
   "cell_type": "markdown",
   "id": "ef21c433-e1c5-4a0e-b67e-805d876883ff",
   "metadata": {},
   "source": [
    "Q3. What is an iterator in python? Name the method used to initialise the iterator object and the method\n",
    "used for iteration. Use these methods to print the first five elements of the given list [2, 4, 6, 8, 10, 12, 14, 16,\n",
    "18, 20].\n",
    "\n",
    "Answer: In Python, an iterator is an object that symbolises a data stream. It is used to go through each element in a container or sequence one by one. The next() method is used for iteration to get the next element in the sequence after initialising an iterator object with the built-in iter() function."
   ]
  },
  {
   "cell_type": "code",
   "execution_count": 8,
   "id": "c2702549-48f0-41d1-85d7-220fcd898be2",
   "metadata": {},
   "outputs": [
    {
     "name": "stdout",
     "output_type": "stream",
     "text": [
      "2\n",
      "4\n",
      "6\n",
      "8\n",
      "10\n"
     ]
    }
   ],
   "source": [
    "# Initialize the iterator object. From Q3 above.\n",
    "my_iter = iter([2, 4, 6, 8, 10, 12, 14, 16, 18, 20])\n",
    "for i in range(5):\n",
    "    print(next(my_iter))"
   ]
  },
  {
   "cell_type": "markdown",
   "id": "59a761e0-d8e3-4eb8-8e39-bd532fa345b7",
   "metadata": {},
   "source": [
    "Q4. What is a generator function in python? Why yield keyword is used? Give an example of a generator\n",
    "function.\n",
    "\n",
    "Answer: In contrast to generating all of the values at once and storing them in memory like a regular function, a generator function in Python enables you to generate a sequence of values on-the-go without using memory space like using a regular function. A generator function can be used to generate a sequence of values, and when it is called, it returns a generator object that can be used to iterate through the values.\n",
    "\n",
    "The yield keyword is used in generator functions to return a value. It does not end the function like return does, which is the main distinction. The function is instead momentarily put on hold while its state is saved, allowing it to pick up where it left off the next time it is called. Because of this, generator functions can produce a series of values as needed rather than having to produce them all at once and store them in memory."
   ]
  },
  {
   "cell_type": "code",
   "execution_count": 14,
   "id": "1d7b9522-6c0b-4e9d-86f8-9b831ee05463",
   "metadata": {},
   "outputs": [
    {
     "name": "stdout",
     "output_type": "stream",
     "text": [
      "0\n",
      "2\n",
      "4\n",
      "6\n",
      "8\n"
     ]
    }
   ],
   "source": [
    "#Give an example of a generator function. From Q4 above\n",
    "def even_numbers(n):\n",
    "    i = 0\n",
    "    while i < n:\n",
    "        yield 2 * i\n",
    "        i += 1\n",
    "for num in even_numbers(5):\n",
    "    print(num)"
   ]
  },
  {
   "cell_type": "markdown",
   "id": "6091c9df-e727-4f17-af50-28773cde0dde",
   "metadata": {},
   "source": [
    "Q5. Create a generator function for prime numbers less than 1000. Use the next() method to print the\n",
    "first 20 prime numbers."
   ]
  },
  {
   "cell_type": "code",
   "execution_count": 10,
   "id": "761c30a3-9014-4c8e-845a-a88e8c24c851",
   "metadata": {},
   "outputs": [
    {
     "name": "stdout",
     "output_type": "stream",
     "text": [
      "2\n",
      "3\n",
      "5\n",
      "7\n",
      "11\n",
      "13\n",
      "17\n",
      "19\n",
      "23\n",
      "29\n",
      "31\n",
      "37\n",
      "41\n",
      "43\n",
      "47\n",
      "53\n",
      "59\n",
      "61\n",
      "67\n",
      "71\n"
     ]
    }
   ],
   "source": [
    "#From Q5 above\n",
    "def primes():\n",
    "    \"\"\"Generate an infinite sequence of prime numbers.\"\"\"\n",
    "    primes_list = []\n",
    "    for n in range(2, 1000):\n",
    "        is_prime = True\n",
    "        for p in primes_list:\n",
    "            if p*p > n:\n",
    "                break\n",
    "            if n % p == 0:\n",
    "                is_prime = False\n",
    "                break\n",
    "        if is_prime:\n",
    "            primes_list.append(n)\n",
    "            yield n\n",
    "prime_gen = primes()\n",
    "for i in range(20):\n",
    "    print(next(prime_gen))"
   ]
  },
  {
   "cell_type": "code",
   "execution_count": null,
   "id": "9296900c-0643-42ae-b61d-2391b1104690",
   "metadata": {},
   "outputs": [],
   "source": []
  }
 ],
 "metadata": {
  "kernelspec": {
   "display_name": "Python 3 (ipykernel)",
   "language": "python",
   "name": "python3"
  },
  "language_info": {
   "codemirror_mode": {
    "name": "ipython",
    "version": 3
   },
   "file_extension": ".py",
   "mimetype": "text/x-python",
   "name": "python",
   "nbconvert_exporter": "python",
   "pygments_lexer": "ipython3",
   "version": "3.10.8"
  }
 },
 "nbformat": 4,
 "nbformat_minor": 5
}
