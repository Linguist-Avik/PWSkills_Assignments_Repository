{
 "cells": [
  {
   "cell_type": "markdown",
   "id": "c84c85ec-dffb-4aef-91de-d0b8b2c352c8",
   "metadata": {},
   "source": [
    "What is multiprocessing in python? Why is it useful?\n",
    "\n",
    "Ans: Multiprocessing in Python means using multiple CPU cores to do tasks at the same time. \n",
    "It's helpful because it makes tasks, especially ones that use a lot of processing power, run faster by splitting them into smaller parts that can be done simultaneously. Python's multiprocessing module helps create and manage these parallel processes, making better use of your computer's power."
   ]
  },
  {
   "cell_type": "markdown",
   "id": "75c8416e-cc29-46c3-a739-fe016d3930ff",
   "metadata": {},
   "source": [
    "What are the differences between multiprocessing and multithreading?\n",
    "\n",
    "Ans: Multiprocessing and multithreading both enable concurrent execution in Python, but they differ:\n",
    "\n",
    "a. Processes vs. Threads:\n",
    "   Multiprocessing: Uses separate processes with independent memory.\n",
    "   Multithreading: Uses threads within a single process sharing memory.\n",
    "\n",
    "b. Isolation:\n",
    "   Multiprocessing: Processes are isolated, so one crashing doesn't affect others.\n",
    "   Multithreading: Threads share memory, a crash can affect the entire process.\n",
    "\n",
    "c. Communication:\n",
    "   Multiprocessing: Needs inter-process communication (IPC).\n",
    "   Multithreading: Communicates through shared memory, needs synchronization.\n",
    "\n",
    "d. Scalability:\n",
    "   Multiprocessing: Scales well on multi-core CPUs.\n",
    "   Multithreading: Limited scaling due to the Global Interpreter Lock (GIL).\n",
    "\n",
    "e. Use Cases:\n",
    "   Multiprocessing: Best for CPU-bound tasks with independent processes.\n",
    "   Multithreading: Useful for I/O-bound tasks and shared data, but GIL limits CPU-bound tasks."
   ]
  },
  {
   "cell_type": "markdown",
   "id": "072a1f7e-922b-4d8e-82df-cdbaa9371a53",
   "metadata": {},
   "source": [
    "Write a python code to create a process using the multiprocessing module."
   ]
  },
  {
   "cell_type": "code",
   "execution_count": 3,
   "id": "05855a3d-75b4-4657-911a-18b5b2fa927e",
   "metadata": {},
   "outputs": [
    {
     "name": "stdout",
     "output_type": "stream",
     "text": [
      "This code is running in a separate process.\n",
      "Main process continues...\n"
     ]
    }
   ],
   "source": [
    "import multiprocessing\n",
    "\n",
    "def my_function():\n",
    "    print(\"This code is running in a separate process.\")\n",
    "\n",
    "if __name__ == \"__main__\":\n",
    "    my_process = multiprocessing.Process(target=my_function)\n",
    "    my_process.start()\n",
    "    my_process.join()\n",
    "    print(\"Main process continues...\")\n"
   ]
  },
  {
   "cell_type": "markdown",
   "id": "2d0f7c59-a5dc-47c6-9b4d-0499c4469e13",
   "metadata": {},
   "source": [
    "What is a multiprocessing pool in python? Why is it used?\n",
    "\n",
    "Ans: A multiprocessing pool in Python is a way to manage and distribute multiple tasks or function calls across multiple processes in a controlled and efficient manner. It's used to parallelize tasks, which means running them concurrently, to take advantage of multi-core CPUs and speed up processing.\n",
    "\n",
    "Think of it like a group of workers (processes) in a pool. You give them tasks (functions) to work on, and they handle those tasks concurrently. This is especially useful for tasks that can be performed independently, like data processing, where you can split the data into chunks and have each worker process a chunk separately.\n",
    "\n",
    "In essence, a multiprocessing pool simplifies the management of multiple processes and helps you make the most of your computer's processing power, making your Python programs faster and more efficient."
   ]
  },
  {
   "cell_type": "markdown",
   "id": "42921ca0-b603-4db4-98ba-4ad4cf36ad86",
   "metadata": {},
   "source": [
    "How can we create a pool of worker processes in python using the multiprocessing module?"
   ]
  },
  {
   "cell_type": "code",
   "execution_count": 4,
   "id": "bda3ddb4-0fcb-45e9-8fe1-78746602d819",
   "metadata": {},
   "outputs": [
    {
     "name": "stdout",
     "output_type": "stream",
     "text": [
      "Results: [1, 4, 9, 16, 25]\n"
     ]
    }
   ],
   "source": [
    "import multiprocessing\n",
    "\n",
    "# Define a function to be executed by worker processes\n",
    "def worker_function(x):\n",
    "    return x * x\n",
    "\n",
    "if __name__ == \"__main__\":\n",
    "    # Create a Pool with a specified number of processes (e.g., 4)\n",
    "    with multiprocessing.Pool(processes=4) as pool:\n",
    "        # Use the Pool's map function to apply the worker function to a list of inputs\n",
    "        inputs = [1, 2, 3, 4, 5]\n",
    "        results = pool.map(worker_function, inputs)\n",
    "\n",
    "    # Print the results\n",
    "    print(\"Results:\", results)\n"
   ]
  },
  {
   "cell_type": "markdown",
   "id": "b96981ec-7702-4f56-a747-e0f63f9407c8",
   "metadata": {},
   "source": [
    "Write a python program to create 4 processes, each process should print a different number using the\n",
    "multiprocessing module in python."
   ]
  },
  {
   "cell_type": "code",
   "execution_count": 9,
   "id": "971ee7b4-1ce1-4034-a2aa-44e2bad8d0fc",
   "metadata": {},
   "outputs": [
    {
     "name": "stdout",
     "output_type": "stream",
     "text": [
      "Process 1: My number is 1\n",
      "Process 2: My number is 2\n",
      "Process 3: My number is 3\n",
      "Process 4: My number is 4\n",
      "All processes have finished.\n"
     ]
    }
   ],
   "source": [
    "import multiprocessing\n",
    "\n",
    "# Function to print a number\n",
    "def print_number(number):\n",
    "    print(f\"Process {number}: My number is {number}\")\n",
    "\n",
    "if __name__ == \"__main__\":\n",
    "    # Create a list of numbers\n",
    "    numbers = [1, 2, 3, 4]\n",
    "\n",
    "    # Create and start a process for each number\n",
    "    processes = []\n",
    "    for number in numbers:\n",
    "        process = multiprocessing.Process(target=print_number, args=(number,))\n",
    "        processes.append(process)\n",
    "        process.start()\n",
    "        process.join()\n",
    "   \n",
    "    print(\"All processes have finished.\")\n"
   ]
  },
  {
   "cell_type": "code",
   "execution_count": null,
   "id": "cda068af-7484-4195-af45-98059440fcc8",
   "metadata": {},
   "outputs": [],
   "source": []
  }
 ],
 "metadata": {
  "kernelspec": {
   "display_name": "Python 3 (ipykernel)",
   "language": "python",
   "name": "python3"
  },
  "language_info": {
   "codemirror_mode": {
    "name": "ipython",
    "version": 3
   },
   "file_extension": ".py",
   "mimetype": "text/x-python",
   "name": "python",
   "nbconvert_exporter": "python",
   "pygments_lexer": "ipython3",
   "version": "3.10.8"
  }
 },
 "nbformat": 4,
 "nbformat_minor": 5
}
