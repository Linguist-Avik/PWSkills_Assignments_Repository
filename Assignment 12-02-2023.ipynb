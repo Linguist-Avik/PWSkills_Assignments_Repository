{
 "cells": [
  {
   "cell_type": "markdown",
   "id": "1dfc9549-000f-45d7-baad-1d55f30da639",
   "metadata": {},
   "source": [
    "Q1. What is an Exception in python? Write the difference between Exceptions and Syntax errors.\n",
    "\n",
    "Ans: An exception is an event that takes place while a programme is being executed and prevents the regular flow of instructions. An exception is raised to show that something went wrong when an exceptional circumstance, such as an error or an unexpected condition, arises.\n",
    "\n",
    "Exceptions offer a way to effortlessly respond to and recover from errors or exceptional circumstances. They give you the chance to handle errors, log important information, or take different actions while preventing the programme from crashing/stopping. They also allow you to handle errors in a controlled manner.\n",
    "\n",
    "Contrarily, syntax errors are errors that happen when the Python interpreter runs into code that doesn't follow the syntax conventions of the language. These mistakes typically happen when you write Python code that doesn't follow the language's official structure, syntax, or grammar. The interpreter cannot parse or run the code due to syntax errors."
   ]
  },
  {
   "cell_type": "markdown",
   "id": "25faab2d-df07-4796-ae41-f5224cfcf8c6",
   "metadata": {},
   "source": [
    "Q2. What happens when an exception is not handled? Explain with an example.\n",
    "\n",
    "Ans: In Python, if an exception is not handled, it results in the termination of the program's execution and the display of an error message with the type of exception that occurred and the associated traceback details. "
   ]
  },
  {
   "cell_type": "code",
   "execution_count": 15,
   "id": "c91ebf2e-c304-4f3d-b723-3efe86fb54dd",
   "metadata": {},
   "outputs": [
    {
     "ename": "ZeroDivisionError",
     "evalue": "division by zero",
     "output_type": "error",
     "traceback": [
      "\u001b[0;31m---------------------------------------------------------------------------\u001b[0m",
      "\u001b[0;31mZeroDivisionError\u001b[0m                         Traceback (most recent call last)",
      "Cell \u001b[0;32mIn[15], line 10\u001b[0m\n\u001b[1;32m      7\u001b[0m num2 \u001b[38;5;241m=\u001b[39m \u001b[38;5;241m0\u001b[39m\n\u001b[1;32m      9\u001b[0m \u001b[38;5;66;03m# Attempting to divide by zero, which raises a ZeroDivisionError\u001b[39;00m\n\u001b[0;32m---> 10\u001b[0m result \u001b[38;5;241m=\u001b[39m \u001b[43mdivide_numbers\u001b[49m\u001b[43m(\u001b[49m\u001b[43mnum1\u001b[49m\u001b[43m,\u001b[49m\u001b[43m \u001b[49m\u001b[43mnum2\u001b[49m\u001b[43m)\u001b[49m\n\u001b[1;32m     12\u001b[0m \u001b[38;5;28mprint\u001b[39m(\u001b[38;5;124m\"\u001b[39m\u001b[38;5;124mResult: \u001b[39m\u001b[38;5;124m\"\u001b[39m, result)\n",
      "Cell \u001b[0;32mIn[15], line 3\u001b[0m, in \u001b[0;36mdivide_numbers\u001b[0;34m(a, b)\u001b[0m\n\u001b[1;32m      2\u001b[0m \u001b[38;5;28;01mdef\u001b[39;00m \u001b[38;5;21mdivide_numbers\u001b[39m(a, b):\n\u001b[0;32m----> 3\u001b[0m     result \u001b[38;5;241m=\u001b[39m \u001b[43ma\u001b[49m\u001b[43m \u001b[49m\u001b[38;5;241;43m/\u001b[39;49m\u001b[43m \u001b[49m\u001b[43mb\u001b[49m\n\u001b[1;32m      4\u001b[0m     \u001b[38;5;28;01mreturn\u001b[39;00m result\n",
      "\u001b[0;31mZeroDivisionError\u001b[0m: division by zero"
     ]
    }
   ],
   "source": [
    "# Ans to Q2 above\n",
    "def divide_numbers(a, b):\n",
    "    result = a / b\n",
    "    return result\n",
    "\n",
    "num1 = 10\n",
    "num2 = 0\n",
    "\n",
    "# Attempting to divide by zero, which raises a ZeroDivisionError\n",
    "result = divide_numbers(num1, num2)\n",
    "\n",
    "print(\"Result: \", result)"
   ]
  },
  {
   "cell_type": "markdown",
   "id": "01d694d2-a6fc-4f39-8789-aa51613c331a",
   "metadata": {},
   "source": [
    "Q3. Which Python statements are used to catch and handle exceptions? Explain with an example."
   ]
  },
  {
   "cell_type": "code",
   "execution_count": 16,
   "id": "8cbd38ce-cff4-471e-9416-0dccd3f8aa68",
   "metadata": {},
   "outputs": [
    {
     "name": "stdin",
     "output_type": "stream",
     "text": [
      "Enter the numerator:  5\n",
      "Enter the denominator:  10\n"
     ]
    },
    {
     "name": "stdout",
     "output_type": "stream",
     "text": [
      "Division result: 0.5\n"
     ]
    }
   ],
   "source": [
    "#Ans Q3 above\n",
    "\n",
    "def divide_numbers(a, b):\n",
    "    try:\n",
    "        result = a / b\n",
    "        print(\"Division result:\", result)\n",
    "    except ZeroDivisionError:\n",
    "        print(\"Error: Cannot divide by zero.\")\n",
    "\n",
    "num1 = int(input(\"Enter the numerator: \"))\n",
    "num2 = int(input(\"Enter the denominator: \"))\n",
    "\n",
    "divide_numbers(num1, num2)"
   ]
  },
  {
   "cell_type": "markdown",
   "id": "d5a8f9d6-879b-4e90-b1f2-f5d5aaaa4c5b",
   "metadata": {},
   "source": [
    "Q4. Explain with an example:\n",
    "a) try and else \n",
    "b) finally\n",
    "c) raise"
   ]
  },
  {
   "cell_type": "code",
   "execution_count": 14,
   "id": "07523e5d-288a-43e0-82ca-380b83a3a8cf",
   "metadata": {},
   "outputs": [
    {
     "name": "stdout",
     "output_type": "stream",
     "text": [
      "Division successful. Result: 5.0\n",
      "End of divide_numbers function.\n",
      "Error: Cannot divide by zero!\n",
      "End of divide_numbers function.\n",
      "Average grade: 86.25\n"
     ]
    }
   ],
   "source": [
    "#Ans to Q4 above\n",
    "\n",
    "def divide_numbers(a, b):\n",
    "    try:\n",
    "        result = a / b\n",
    "    except ZeroDivisionError:\n",
    "        print(\"Error: Cannot divide by zero!\")\n",
    "    else:\n",
    "        print(\"Division successful. Result:\", result)\n",
    "    finally:\n",
    "        print(\"End of divide_numbers function.\")\n",
    "\n",
    "# Valid division\n",
    "divide_numbers(10, 2)\n",
    "\n",
    "# Invalid division\n",
    "divide_numbers(10, 0)\n",
    "\n",
    "#----------------------------------------------------------------------------------------\n",
    "\n",
    "def calculate_average_grade(grades):\n",
    "    if not grades:\n",
    "        raise ValueError(\"No grades found.\")\n",
    "    \n",
    "    total_sum = sum(grades)\n",
    "    average = total_sum / len(grades)\n",
    "    \n",
    "    return average\n",
    "\n",
    "grades_list = [85, 92, 78, 90]\n",
    "try:\n",
    "    average_grade = calculate_average_grade(grades_list)\n",
    "    print(\"Average grade:\", average_grade)\n",
    "except ValueError as e:\n",
    "    print(\"Error:\", e)"
   ]
  },
  {
   "cell_type": "markdown",
   "id": "bdd90c76-6e97-4369-9958-ea84a566edea",
   "metadata": {},
   "source": [
    "Q5. What are Custom Exceptions in python? Why do we need Custom Exceptions? Explain with an example."
   ]
  },
  {
   "cell_type": "code",
   "execution_count": null,
   "id": "1847d995-697b-46a1-81a4-400401c9491d",
   "metadata": {},
   "outputs": [],
   "source": [
    "#Ans to Q5\n",
    "\n",
    "class InsufficientFundsError(Exception):\n",
    "    \"\"\"Custom exception raised when there are insufficient funds.\"\"\"\n",
    "\n",
    "    def __init__(self, account_balance, amount):\n",
    "        super().__init__(f\"Insufficient funds. Available balance: {account_balance}, Required amount: {amount}\")\n",
    "        self.account_balance = account_balance\n",
    "        self.amount = amount\n",
    "\n",
    "def withdraw_from_account(account_balance, amount):\n",
    "    if amount > account_balance:\n",
    "        raise InsufficientFundsError(account_balance, amount)\n",
    "    else:\n",
    "        print(\"Withdrawal successful.\")\n",
    "\n",
    "try:\n",
    "    withdraw_from_account(1000, 1500)\n",
    "except InsufficientFundsError as e:\n",
    "    print(e)"
   ]
  },
  {
   "cell_type": "markdown",
   "id": "eb61d9fb-323d-43f2-a1e0-5a543036cde1",
   "metadata": {},
   "source": [
    "Q6. Create a custom exception class. Use this class to handle an exception."
   ]
  },
  {
   "cell_type": "code",
   "execution_count": 1,
   "id": "932c5dcc-62a5-4c23-adca-3a36d8f22e4f",
   "metadata": {},
   "outputs": [
    {
     "name": "stdin",
     "output_type": "stream",
     "text": [
      "Enter password:  avik\n"
     ]
    },
    {
     "name": "stdout",
     "output_type": "stream",
     "text": [
      "Password length should be more than 10 characters\n"
     ]
    }
   ],
   "source": [
    "#Ans Q6\n",
    "\n",
    "class Valid_length_of_password(Exception):\n",
    "    def __init__(self, password):\n",
    "        self.password = password\n",
    "        \n",
    "def valid_password(pswd):\n",
    "    if len(pswd) < 10:\n",
    "        raise Valid_length_of_password(\"Password length should be more than 10 characters\")\n",
    "    elif len(pswd) > 25:\n",
    "        raise Valid_length_of_password(\"Password length should not be more than 25 characters\")\n",
    "    else:\n",
    "        print(\"Password length is valid\")\n",
    "        \n",
    "try:\n",
    "    user_password = str(input(\"Enter password: \"))\n",
    "    valid_password(user_password)\n",
    "except Valid_length_of_password as e:\n",
    "    print(e)"
   ]
  }
 ],
 "metadata": {
  "kernelspec": {
   "display_name": "Python 3 (ipykernel)",
   "language": "python",
   "name": "python3"
  },
  "language_info": {
   "codemirror_mode": {
    "name": "ipython",
    "version": 3
   },
   "file_extension": ".py",
   "mimetype": "text/x-python",
   "name": "python",
   "nbconvert_exporter": "python",
   "pygments_lexer": "ipython3",
   "version": "3.10.8"
  }
 },
 "nbformat": 4,
 "nbformat_minor": 5
}
