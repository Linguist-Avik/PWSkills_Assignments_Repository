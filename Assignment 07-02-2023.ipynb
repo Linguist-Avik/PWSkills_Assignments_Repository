{
 "cells": [
  {
   "cell_type": "markdown",
   "id": "66ac88bf-2871-4d2a-9e74-8263a6638fdd",
   "metadata": {},
   "source": [
    "Q1. You are writing code for a company. The requirement of the company is that you create a python\n",
    "function that will check whether the password entered by the user is correct or not. The function should\n",
    "take the password as input and return the string “Valid Password” if the entered password follows the\n",
    "below-given password guidelines else it should return “Invalid Password”.\n",
    "\n",
    "Note: 1. The Password should contain at least two uppercase letters and at least two lowercase letters.\n",
    "2. The Password should contain at least a number and three special characters.\n",
    "3. The length of the password should be 10 characters long."
   ]
  },
  {
   "cell_type": "code",
   "execution_count": 17,
   "id": "5a258a27-663d-4c6e-947c-b0ed760efe5f",
   "metadata": {},
   "outputs": [
    {
     "name": "stdout",
     "output_type": "stream",
     "text": [
      "Invalid Password\n"
     ]
    }
   ],
   "source": [
    "#From Q1 above\n",
    "def check_password(password):\n",
    "    # Check the length of the password\n",
    "    if len(password) != 10:\n",
    "        return \"Invalid Password\"\n",
    "\n",
    "    # Count the number of uppercase and lowercase letters in the password\n",
    "    num_upper = 0\n",
    "    num_lower = 0\n",
    "    for char in password:\n",
    "        if char.isupper():\n",
    "            num_upper = num_upper + 1\n",
    "        elif char.islower():\n",
    "            num_lower = num_lower + 1\n",
    "\n",
    "    # Check if there are at least two uppercase and two lowercase letters in the password\n",
    "    if num_upper < 2 or num_lower < 2:\n",
    "        return \"Invalid Password\"\n",
    "\n",
    "    # Count the number of digits and special characters in the password\n",
    "    num_digits = 0\n",
    "    num_special = 0\n",
    "    for char in password:\n",
    "        if char.isdigit():\n",
    "            num_digits = num_digits + 1\n",
    "        elif char in \"!@#$%^&*()_+={}[]:;,.<>/?-\":\n",
    "            num_special = num_special + 1\n",
    "\n",
    "    # Check if there is at least one digit and three special characters in the password\n",
    "    if num_digits < 1 or num_special < 3:\n",
    "        return \"Invalid Password\"\n",
    "\n",
    "    # If all checks pass, then the password is valid\n",
    "    return \"Valid Password\"\n",
    "\n",
    "password = \"MyPassword123!@#\"\n",
    "result = check_password(password)\n",
    "print(result)\n"
   ]
  },
  {
   "cell_type": "markdown",
   "id": "8a4823f0-7855-41a4-9574-0f89a49213a8",
   "metadata": {},
   "source": [
    "Q2. Solve the below-given questions using at least one of the following:\n",
    "1. Lambda function\n",
    "2. Filter function\n",
    "3. Zap function\n",
    "4. List Comprehension\n",
    "\n",
    "- Check if the string starts with a particular letter\n",
    "- Check if the string is numeric\n",
    "- Sort a list of tuples having fruit names and their quantity. [(\"mango\",99),(\"orange\",80), (\"grapes\", 1000)]\n",
    "- Find the squares of numbers from 1 to 10\n",
    "- Find the cube root of numbers from 1 to 10\n",
    "- Check if a given number is even\n",
    "- Filter odd numbers from the given list.\n",
    "[1,2,3,4,5,6,7,8,9,10]\n",
    "- Sort a list of integers into positive and negative integers lists.\n",
    "[1,2,3,4,5,6,-1,-2,-3,-4,-5,0]"
   ]
  },
  {
   "cell_type": "code",
   "execution_count": 38,
   "id": "1144d4cb-c620-44c5-81a0-c76ef376687d",
   "metadata": {},
   "outputs": [
    {
     "data": {
      "text/plain": [
       "False"
      ]
     },
     "execution_count": 38,
     "metadata": {},
     "output_type": "execute_result"
    }
   ],
   "source": [
    "#from Q2 above\n",
    "#Check if the string starts with a particular letter\n",
    "check_spell = lambda x: x.startswith('a')\n",
    "check_spell('banerjee')"
   ]
  },
  {
   "cell_type": "code",
   "execution_count": 39,
   "id": "5f08c075-df63-4d1a-9550-167b964bc399",
   "metadata": {},
   "outputs": [
    {
     "data": {
      "text/plain": [
       "False"
      ]
     },
     "execution_count": 39,
     "metadata": {},
     "output_type": "execute_result"
    }
   ],
   "source": [
    "#from Q2 above\n",
    "#Check if the string is numeric\n",
    "check_str = lambda x: x.isdigit()\n",
    "check_str('banerjee')"
   ]
  },
  {
   "cell_type": "code",
   "execution_count": 42,
   "id": "9362ea75-7607-43f1-ab56-f78ada895ed6",
   "metadata": {},
   "outputs": [
    {
     "name": "stdout",
     "output_type": "stream",
     "text": [
      "[('grapes', 1000), ('mango', 99), ('orange', 80)]\n"
     ]
    }
   ],
   "source": [
    "#from Q2 above\n",
    "#Sort a list of tuples having fruit names and their quantity. [(\"mango\",99),(\"orange\",80), (\"grapes\", 1000)]\n",
    "fruits = [(\"mango\",99),(\"orange\",80), (\"grapes\", 1000)]\n",
    "sort = sorted(fruits, key = lambda x: x[1])\n",
    "print(sort)"
   ]
  },
  {
   "cell_type": "code",
   "execution_count": 43,
   "id": "0c9587f3-e395-4ccc-8eca-75b83ab904d1",
   "metadata": {},
   "outputs": [
    {
     "name": "stdout",
     "output_type": "stream",
     "text": [
      "[1, 4, 9, 16, 25, 36, 49, 64, 81, 100]\n"
     ]
    }
   ],
   "source": [
    "#from Q2 above\n",
    "#Find the squares of numbers from 1 to 10\n",
    "squares = [x*x for x in range(1,11)]\n",
    "print(squares) "
   ]
  },
  {
   "cell_type": "code",
   "execution_count": 46,
   "id": "20c2e6ee-ce94-4b21-886e-dacea9b04601",
   "metadata": {},
   "outputs": [
    {
     "name": "stdout",
     "output_type": "stream",
     "text": [
      "[1.0, 1.2599210498948732, 1.4422495703074083, 1.5874010519681994, 1.7099759466766968, 1.8171205928321397, 1.912931182772389, 2.0, 2.080083823051904, 2.154434690031884]\n"
     ]
    }
   ],
   "source": [
    "#from Q2 above\n",
    "#Find the cube root of numbers from 1 to 10\n",
    "cube_root = [x**(1/3) for x in range(1,11)]\n",
    "print(cube_root) "
   ]
  },
  {
   "cell_type": "code",
   "execution_count": 59,
   "id": "119726aa-71aa-49fe-8764-7c561ac2a699",
   "metadata": {},
   "outputs": [
    {
     "data": {
      "text/plain": [
       "False"
      ]
     },
     "execution_count": 59,
     "metadata": {},
     "output_type": "execute_result"
    }
   ],
   "source": [
    "#from Q2 above\n",
    "#Check if a given number is even\n",
    "evn = lambda x: x % 2 == 0\n",
    "evn(77)"
   ]
  },
  {
   "cell_type": "code",
   "execution_count": 61,
   "id": "ae0485c2-fb71-42c5-8501-fd6be6ec7745",
   "metadata": {},
   "outputs": [
    {
     "data": {
      "text/plain": [
       "[1, 3, 5, 7, 9]"
      ]
     },
     "execution_count": 61,
     "metadata": {},
     "output_type": "execute_result"
    }
   ],
   "source": [
    "#from Q2 above\n",
    "#Filter odd numbers from the given list. [1,2,3,4,5,6,7,8,9,10]\n",
    "li = [1,2,3,4,5,6,7,8,9,10]\n",
    "list(filter(lambda x: x % 2 !=0, li))"
   ]
  },
  {
   "cell_type": "code",
   "execution_count": 64,
   "id": "c6f01c18-b6e3-43ff-b391-537fac21765b",
   "metadata": {},
   "outputs": [
    {
     "name": "stdout",
     "output_type": "stream",
     "text": [
      "Positive numbers:  [1, 2, 3, 4, 5, 6]\n",
      "Negative numbers:  [-1, -2, -3, -4, -5]\n"
     ]
    }
   ],
   "source": [
    "#from Q2 above\n",
    "#Sort a list of integers into positive and negative integers lists. \n",
    "numbers = [1, 2, 3, 4, 5, 6, -1, -2, -3, -4, -5, 0]\n",
    "positive_numbers = [x for x in numbers if x > 0]\n",
    "negative_numbers = [x for x in numbers if x < 0]\n",
    "print('Positive numbers: ', positive_numbers)\n",
    "print('Negative numbers: ', negative_numbers)"
   ]
  }
 ],
 "metadata": {
  "kernelspec": {
   "display_name": "Python 3 (ipykernel)",
   "language": "python",
   "name": "python3"
  },
  "language_info": {
   "codemirror_mode": {
    "name": "ipython",
    "version": 3
   },
   "file_extension": ".py",
   "mimetype": "text/x-python",
   "name": "python",
   "nbconvert_exporter": "python",
   "pygments_lexer": "ipython3",
   "version": "3.10.8"
  }
 },
 "nbformat": 4,
 "nbformat_minor": 5
}
