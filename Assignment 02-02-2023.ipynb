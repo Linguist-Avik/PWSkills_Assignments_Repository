{
 "cells": [
  {
   "cell_type": "markdown",
   "id": "bcc177ff-0073-457e-89b4-24811ffb5fb6",
   "metadata": {},
   "source": [
    "Q1. What are the characteristics of the tuples? Is tuple immutable?\n",
    "\n",
    "Answer: Tuple is an ordered group of elements of any type and parentheses are used when ceating tuples. The tuples' characteristics are as follows:\n",
    "\n",
    "Immutable:  Tuple cannot have any of its components added or changed after it has been created.\n",
    "Ordered: A tuple's elements can be accessed by their index, which ranges from 0, 1, and so forth.\n",
    "Heterogeneous: Tuples can include data types such as integers, floats, strings, and other tuples.\n",
    "Iterable: Tuples can be used in iteration such as for loops and other kinds of looping.\n",
    "Hashable: Tuples are hashable, thus, can be used as dictionary keys.\n",
    "\n",
    "Here is an example of a tuple:\n",
    "my_tuple = (1, \"two\", 3.0)\n",
    "\n",
    "Yes, a tuple is immutable. As mentioned above, its elements cannot be changed or added to. This means that we can't modify or update a tuple after it has been created, which makes it a useful choice to store sensitive data that should not be changed."
   ]
  },
  {
   "cell_type": "markdown",
   "id": "962f7785-d77e-4c6b-a0fe-ae2ed3047879",
   "metadata": {},
   "source": [
    "Q2. What are the two tuple methods in python? Give an example of each method. Give a reason why\n",
    "tuples have only two in-built methods as compared to Lists.\n",
    "\n",
    "Answer: In Python, there are two built-in methods that can be used with tuples:\n",
    "a) count(): This method returns the number of times a specified element appears in the tuple. Eg., my_tuple.count()\n",
    "b) index(): This method returns the index of the first occurrence of a specified element in the tuple. Eg., my_tuple.index()\n",
    "\n",
    "Compared to tuples, which have only two built-in methods, lists in Python have many more. This is due to the fact that tuples are designed to be immutable, or that they cannot be changed after being created. Methods that change a tuple's contents are therefore not as frequently required. On the other hand, since lists are meant to be mutable, there are a lot more methods available that can be used to modify a list's content, such as append(), insert(), remove(), and sort ()."
   ]
  },
  {
   "cell_type": "markdown",
   "id": "4d4b401a-ed56-49e1-a025-0743f2b08d48",
   "metadata": {},
   "source": [
    "Q3. Which collection datatypes in python do not allow duplicate items? Write a code using a set to remove\n",
    "duplicates from the given list. List = [1, 1, 1, 2, 1, 3, 1, 4, 2, 1, 2, 2, 2, 3, 2, 4, 3, 1, 3, 2, 3, 3, 3, 4, 4, 1, 4, 2, 4, 3, 4, 4]\n",
    "\n",
    "Answer: The collection datatype in Python that does not allow duplicate items is the set. A set is an unordered collection of unique elements."
   ]
  },
  {
   "cell_type": "code",
   "execution_count": 7,
   "id": "a078a572-24a0-4ab9-ad0a-8b281395648c",
   "metadata": {},
   "outputs": [
    {
     "name": "stdout",
     "output_type": "stream",
     "text": [
      "{1, 2, 3, 4}\n"
     ]
    }
   ],
   "source": [
    "# Writing the code for Question 3 (above)\n",
    "\n",
    "lst = [1, 1, 1, 2, 1, 3, 1, 4, 2, 1, 2, 2, 2, 3, 2, 4, 3, 1, 3, 2, 3, 3, 3, 4, 4, 1, 4, 2, 4, 3, 4, 4]\n",
    "my_list = set(lst)\n",
    "print(my_list)"
   ]
  },
  {
   "cell_type": "markdown",
   "id": "db1d9d2e-7b92-41c0-a8ff-20ffc17e7321",
   "metadata": {},
   "source": [
    "Q4. Explain the difference between the union() and update() methods for a set. Give an example of\n",
    "each method.\n",
    "\n",
    "Answer: The original sets are not changed when using the union() method; instead, a new set is returned that contains all the distinct elements from two or more sets. In contrast, the update() method modifies the original set in-place while adding all the elements from one set to another.\n",
    "Union() returns a new set that combines the distinctive elements from two or more sets, whereas update() modifies the original set in-place by adding all the elements from another set. This is the main distinction between union() and update()."
   ]
  },
  {
   "cell_type": "code",
   "execution_count": 1,
   "id": "4dfa2a54-d2d7-4f05-bc26-6b1640d65ff5",
   "metadata": {},
   "outputs": [
    {
     "name": "stdout",
     "output_type": "stream",
     "text": [
      "{1, 2, 3, 4, 5}\n",
      "{1, 2, 3, 4, 5}\n"
     ]
    }
   ],
   "source": [
    "# Example for question 4 above\n",
    "set1 = {1, 2, 3}\n",
    "set2 = {3, 4, 5}\n",
    "set3 = set1.union(set2)\n",
    "print(set3)\n",
    "set1.update(set2)\n",
    "print(set1)\n"
   ]
  },
  {
   "cell_type": "markdown",
   "id": "541fbbb7-32c1-4f14-8c12-0619d9d9ad53",
   "metadata": {},
   "source": [
    "Q5. What is a dictionary? Give an example. Also, state whether a dictionary is ordered or unordered.\n",
    "\n",
    "Answer: A dictionary is a set of key-value pairs that enables key-based data storage and retrieval. The dictionary's keys, which are used to access the associated values, must each be distinct.\n",
    "\n",
    "Example - my_dict = {'name': 'avik', 'age': 26, 'profession': 'linguist'}\n",
    "\n",
    "Dictionary is unordered, which means that the key-value pairs may be stored in any order."
   ]
  },
  {
   "cell_type": "markdown",
   "id": "aeb9b6c5-1a47-4fa9-aa2e-443b7cca1d6c",
   "metadata": {},
   "source": [
    "Q6. Can we create a nested dictionary? If so, please give an example by creating a simple one-level\n",
    "nested dictionary.\n",
    "\n",
    "Answer: Yes we can create a nested dictionary"
   ]
  },
  {
   "cell_type": "code",
   "execution_count": 5,
   "id": "bb7ab4db-b218-4993-a2e3-e11235db08ce",
   "metadata": {},
   "outputs": [
    {
     "name": "stdout",
     "output_type": "stream",
     "text": [
      "avik\n"
     ]
    }
   ],
   "source": [
    "# Creating a nested dictionary, Example for question 6 above\n",
    "my_dict = {\"p1\": {\"name\": \"avik\", \"age\": 26},\"p2\": {\"name\": \"sushrita\",\"age\": 25}}\n",
    "print(my_dict[\"p1\"][\"name\"])\n"
   ]
  },
  {
   "cell_type": "markdown",
   "id": "c8236ce4-4088-4b59-b646-e5f34a9815d1",
   "metadata": {},
   "source": [
    "Q7. Using setdefault() method, create key named topics in the given dictionary and also add the value of\n",
    "the key as this list ['Python', 'Machine Learning’, 'Deep Learning']\n",
    "dict1 = {'language' : 'Python', 'course': 'Data Science Masters'}"
   ]
  },
  {
   "cell_type": "code",
   "execution_count": 8,
   "id": "62b53a29-2cfa-432d-8a46-efddc6b601ea",
   "metadata": {},
   "outputs": [
    {
     "name": "stdout",
     "output_type": "stream",
     "text": [
      "{'language': 'Python', 'course': 'Data Science Masters', 'topics': ['Python', 'Machine Learning', 'Deep Learning']}\n"
     ]
    }
   ],
   "source": [
    "# Answer to questin 7 above\n",
    "dict1 = {'language': 'Python', 'course': 'Data Science Masters'}\n",
    "\n",
    "# Adding key 'topics' with the given values to the existing dictionary\n",
    "dict1.setdefault('topics', ['Python', 'Machine Learning', 'Deep Learning'])\n",
    "\n",
    "print(dict1)\n"
   ]
  },
  {
   "cell_type": "markdown",
   "id": "06c4f4a4-4465-471a-b53b-3e6730500539",
   "metadata": {},
   "source": [
    "Q8. What are the three view objects in dictionaries? Use the three in-built methods in python to display\n",
    "these three view objects for the given dictionary.\n",
    "dict1 = {'Sport': 'Cricket' , 'Teams': ['India', 'Australia', 'England', 'South Africa', 'Sri Lanka', 'New Zealand']}\n",
    "\n",
    "Answer: There are three different types of view objects from a dictionary:\n",
    "\n",
    "a) The built-in method dict.keys() gets back a view object containing the dictionary's keys.\n",
    "b) The built-in method dict.values() gets back a view object containing the dictionary's values.\n",
    "c) The built-in method dict.items() gets back a view object with the dictionary's key-value pairs as tuples."
   ]
  },
  {
   "cell_type": "code",
   "execution_count": null,
   "id": "9c4337d3-a357-4d94-8c58-2dfe06cb92f4",
   "metadata": {},
   "outputs": [],
   "source": [
    "# Using three built-in view object methods to dispay objects for question 8\n",
    "\n",
    "dict1 = {'Sport': 'Cricket', 'Teams': ['India', 'Australia', 'England', 'South Africa', 'Sri Lanka', 'New Zealand']}\n",
    "\n",
    "# Get back keys\n",
    "keys_view = dict1.keys()\n",
    "\n",
    "# Get back values\n",
    "values_view = dict1.values()\n",
    "\n",
    "# Get back key-value pairs\n",
    "items_view = dict1.items()\n",
    "\n",
    "# Display the view objects\n",
    "print(\"Keys view:\", keys_view)\n",
    "print(\"Values view:\", values_view)\n",
    "print(\"Items view:\", items_view)\n"
   ]
  }
 ],
 "metadata": {
  "kernelspec": {
   "display_name": "Python 3 (ipykernel)",
   "language": "python",
   "name": "python3"
  },
  "language_info": {
   "codemirror_mode": {
    "name": "ipython",
    "version": 3
   },
   "file_extension": ".py",
   "mimetype": "text/x-python",
   "name": "python",
   "nbconvert_exporter": "python",
   "pygments_lexer": "ipython3",
   "version": "3.10.8"
  }
 },
 "nbformat": 4,
 "nbformat_minor": 5
}
