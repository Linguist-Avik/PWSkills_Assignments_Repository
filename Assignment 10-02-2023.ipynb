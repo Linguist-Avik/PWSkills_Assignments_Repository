{
 "cells": [
  {
   "cell_type": "markdown",
   "id": "db022ce0-6424-42e4-8af9-da8fb0246b14",
   "metadata": {},
   "source": [
    "Q1. Which function is used to open a file? What are the different modes of opening a file? Explain each mode\n",
    "of file opening.\n",
    "\n",
    "Ans: The open() function is used to open a file.\n",
    "\n",
    "a) `'r'` - Read mode: This is the default mode. It opens the file for reading and returns a file object. If the file does not exist, it raises a `FileNotFoundError` exception.\n",
    "\n",
    "b) `'w'` - Write mode: It opens the file for writing. If the file exists, its contents are truncated (deleted) and a new empty file is created. If the file does not exist, a new file is created. Returns a file object.\n",
    "\n",
    "c) `'x'` - Exclusive creation mode: It opens the file for exclusive creation, meaning it fails if the file already exists. If the file does not exist, it creates a new file. Returns a file object.\n",
    "\n",
    "d) `'a'` - Append mode: It opens the file for appending data at the end. If the file does not exist, it creates a new file. Returns a file object.\n",
    "\n",
    "e) `'b'` - Binary mode: It opens the file in binary mode, which is used for non-text files such as images, audio, etc. This mode can be added to any of the above modes. For example, `'rb'` opens a file in binary mode for reading.\n",
    "\n",
    "f) `'t'` - Text mode: This is the default mode and is used for text files. It can also be added to any of the above modes. For example, `'wt'` opens a file in text mode for writing.\n",
    "\n",
    "g) `'+'` - Read and write mode: It opens the file for both reading and writing. This can be added to any of the above modes. For example, `'r+'` opens a file in read and write mode.\n",
    "\n",
    "By combining these mode characters, you can specify the desired behavior when opening a file. For example, `'rb'` opens a file in binary mode for reading, `'w+'` opens a file for reading and writing, truncating the file if it exists, etc."
   ]
  },
  {
   "cell_type": "markdown",
   "id": "a9faac0f-1949-44e0-a994-975de00512a2",
   "metadata": {},
   "source": [
    "Q2. Why close() function is used? Why is it important to close a file?\n",
    "\n",
    "Ans: The close() function is used to close an open file. It is important to close a file for several reasons:\n",
    "\n",
    "a) save resources like memory buffers, file descriptors, and other system-level structures. By closing the file we release these resources, to be used in other programs. Failing to close a file at times might lead us into running out of file descriptors or memory.\n",
    "\n",
    "b) Closing the file ensures that any pending writes are flushed and the data is written to disk. If we don't close the file there runs a risk that the changes made to file may not be saved correctly or completely.\n",
    "\n",
    "c) In some cases, when a file is opened, it may be locked by the operating system to prevent concurrent access from other processes. Closing the file releases the lock, allowing other programs to access or modify the file. Failing to close the file can result in resource contention and potential conflicts when multiple processes or threads attempt to access the same file."
   ]
  },
  {
   "cell_type": "markdown",
   "id": "f23d063c-2166-448f-8a6d-95f8c5b4bd9d",
   "metadata": {},
   "source": [
    "Q3. Write a python program to create a text file. Write ‘I want to become a Data Scientist’ in that file. Then\n",
    "close the file. Open this file and read the content of the file."
   ]
  },
  {
   "cell_type": "code",
   "execution_count": 8,
   "id": "c054122c-dd65-4d97-8909-93e4c3cac6fa",
   "metadata": {},
   "outputs": [
    {
     "data": {
      "text/plain": [
       "'I want to become a Data Scientist'"
      ]
     },
     "execution_count": 8,
     "metadata": {},
     "output_type": "execute_result"
    }
   ],
   "source": [
    "#Answer to Q3.\n",
    "\n",
    "file = open('test1.txt', 'w+')\n",
    "file.write(\"I want to become a Data Scientist\")\n",
    "file.close\n",
    "data = open(\"test1.txt\")\n",
    "data.read()"
   ]
  },
  {
   "cell_type": "markdown",
   "id": "a4cc5d99-adc7-4f42-aaee-96aac04c450d",
   "metadata": {},
   "source": [
    "Q4. Explain the following with python code: read(), readline() and readlines().\n",
    "\n",
    "Ans: To read a file's entire contents as a single string, use the read() method. The current position in the file is read through to the end or, if more characters are specified, the specified number of characters. If no argument is provided, the entire file is read.\n",
    "\n",
    "One line from the file can be read using the readline() method. Until it encounters a newline character ('n') or reaches the end of the file, it reads characters starting from the current position.\n",
    "\n",
    "A list of strings is returned for each line that was read using the readlines() method. The newline character ('n') at the end of each string denotes that it represents a line from the file.\n"
   ]
  },
  {
   "cell_type": "markdown",
   "id": "4607b179-a8d1-45be-8452-1bed6a811168",
   "metadata": {},
   "source": [
    "Q5. Explain why with statement is used with open(). What is the advantage of using with statement and\n",
    "open() together?\n",
    "\n",
    "Ans: To ensure proper management of file resources, Python's 'open()' function uses the 'with' statement. It offers a quick and effective way to automatically open and close files. \n",
    "\n",
    "Advantages are:\n",
    "\n",
    "a) Automatic resource management: Using the 'with' statement causes the file to be closed at the end of the block without regard to whether an exception occurs or not. It makes sure that file resources are released properly, avoiding resource leaks and potential file locking problems.\n",
    "\n",
    "The use of the \"with\" statement eliminates the need for explicit \"close()\" calls, making the code cleaner and more readable. It lessens the possibility of forgetting to unintentionally close a file.\n",
    "\n",
    "\n",
    "c) If an exception occurs inside the \"with\" block, then the \"with\" statement takes care of it automatically and makes sure the file is closed. This guards against data loss or corruption and preserves the integrity of the file.\n",
    "\n",
    "d) The 'with' statement is designed to handle files efficiently, making it a better option than manually opening and closing files. In order to conserve resources, it makes sure that the file is closed as soon as it is no longer required."
   ]
  },
  {
   "cell_type": "markdown",
   "id": "05f4c69d-7ab6-4d0c-a5f0-20413239479f",
   "metadata": {},
   "source": [
    "Q6. Explain the write() and writelines() functions. Give a suitable example.\n",
    "\n",
    "Ans:A string can be written to a file using the write() function. The string is added at the file pointer's current location. The function will create the file if it doesn't already exist if the file is opened in write mode ('w') or append mode ('a'). If the file already exists, using the write mode ('w') will replace the contents.\n",
    "\n",
    "A list of strings can be written to a file using the writelines() function. Each string in the input iterable of strings is written to the file. You must manually include newline characters ('n') if you want them to appear between the strings because it does not automatically add any."
   ]
  },
  {
   "cell_type": "code",
   "execution_count": 9,
   "id": "0dd29e9d-5fec-4a28-995b-51753bf0c75c",
   "metadata": {},
   "outputs": [],
   "source": [
    "# Example using write()\n",
    "with open('example.txt', 'w') as file:\n",
    "    file.write('Hello, World!')"
   ]
  },
  {
   "cell_type": "code",
   "execution_count": 11,
   "id": "5eed733f-a2cc-407a-bb15-7c7ca1298e28",
   "metadata": {},
   "outputs": [],
   "source": [
    "# Example using writelines()\n",
    "lines = ['Line 1\\n', 'Line 2\\n', 'Line 3\\n']\n",
    "\n",
    "with open('example.txt', 'w') as file:\n",
    "    file.writelines(lines)"
   ]
  },
  {
   "cell_type": "code",
   "execution_count": null,
   "id": "a70c6f83-1caf-479f-a892-27e2d88e0eff",
   "metadata": {},
   "outputs": [],
   "source": []
  }
 ],
 "metadata": {
  "kernelspec": {
   "display_name": "Python 3 (ipykernel)",
   "language": "python",
   "name": "python3"
  },
  "language_info": {
   "codemirror_mode": {
    "name": "ipython",
    "version": 3
   },
   "file_extension": ".py",
   "mimetype": "text/x-python",
   "name": "python",
   "nbconvert_exporter": "python",
   "pygments_lexer": "ipython3",
   "version": "3.10.8"
  }
 },
 "nbformat": 4,
 "nbformat_minor": 5
}
